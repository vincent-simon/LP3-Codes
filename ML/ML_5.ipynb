{
  "cells": [
    {
      "cell_type": "markdown",
      "metadata": {
        "id": "TOdx8FWuXFJo"
      },
      "source": [
        "# Assignment 5\n",
        "KNN algorithm on diabetes dataset"
      ]
    },
    {
      "cell_type": "code",
      "source": [
        "from google.colab import drive\n",
        "drive.mount('/content/drive')"
      ],
      "metadata": {
        "colab": {
          "base_uri": "https://localhost:8080/"
        },
        "id": "WJ5HzTM4SJTG",
        "outputId": "59309dee-e2a1-4124-99b4-fddd71c27189"
      },
      "execution_count": null,
      "outputs": [
        {
          "output_type": "stream",
          "name": "stdout",
          "text": [
            "Mounted at /content/drive\n"
          ]
        }
      ]
    },
    {
      "cell_type": "code",
      "execution_count": null,
      "metadata": {
        "id": "nKCWne59XA2o"
      },
      "outputs": [],
      "source": [
        "import pandas as pd\n",
        "import numpy as np\n",
        "import seaborn as sns\n",
        "import matplotlib.pyplot as plt\n",
        "%matplotlib inline\n",
        "import warnings\n",
        "warnings.filterwarnings('ignore')\n",
        "from sklearn.model_selection import train_test_split\n",
        "from sklearn.svm import SVC\n",
        "from sklearn import metrics"
      ]
    },
    {
      "cell_type": "code",
      "execution_count": null,
      "metadata": {
        "id": "ODTIFQf4XEWc"
      },
      "outputs": [],
      "source": [
        "df=pd.read_csv('/content/drive/MyDrive/diabetes.csv')"
      ]
    },
    {
      "cell_type": "code",
      "execution_count": null,
      "metadata": {
        "colab": {
          "base_uri": "https://localhost:8080/"
        },
        "id": "teanhyOkXatu",
        "outputId": "181ed05d-efb5-4207-8d38-290f355a76a2"
      },
      "outputs": [
        {
          "output_type": "execute_result",
          "data": {
            "text/plain": [
              "Index(['Pregnancies', 'Glucose', 'BloodPressure', 'SkinThickness', 'Insulin',\n",
              "       'BMI', 'Pedigree', 'Age', 'Outcome'],\n",
              "      dtype='object')"
            ]
          },
          "metadata": {},
          "execution_count": 4
        }
      ],
      "source": [
        "df.columns"
      ]
    },
    {
      "cell_type": "markdown",
      "metadata": {
        "id": "ZYJn0zy_X7mj"
      },
      "source": [
        "Check for null values. If present remove null values from the dataset"
      ]
    },
    {
      "cell_type": "code",
      "execution_count": null,
      "metadata": {
        "colab": {
          "base_uri": "https://localhost:8080/"
        },
        "id": "3WaDM-m2X_xF",
        "outputId": "887c772e-68ac-4cf2-ba1f-ecad3bec2ec1"
      },
      "outputs": [
        {
          "output_type": "execute_result",
          "data": {
            "text/plain": [
              "Pregnancies      0\n",
              "Glucose          0\n",
              "BloodPressure    0\n",
              "SkinThickness    0\n",
              "Insulin          0\n",
              "BMI              0\n",
              "Pedigree         0\n",
              "Age              0\n",
              "Outcome          0\n",
              "dtype: int64"
            ]
          },
          "metadata": {},
          "execution_count": 5
        }
      ],
      "source": [
        "df.isnull().sum()"
      ]
    },
    {
      "cell_type": "code",
      "execution_count": null,
      "metadata": {
        "id": "la5YpJfwYC23"
      },
      "outputs": [],
      "source": []
    },
    {
      "cell_type": "markdown",
      "metadata": {
        "id": "rr_y9CaxXuBc"
      },
      "source": [
        "Outcome is the label/target, other columns are features"
      ]
    },
    {
      "cell_type": "code",
      "execution_count": null,
      "metadata": {
        "id": "eS4Nbv31Xauq"
      },
      "outputs": [],
      "source": [
        "X = df.drop('Outcome',axis = 1)\n",
        "y = df['Outcome']"
      ]
    },
    {
      "cell_type": "code",
      "execution_count": null,
      "metadata": {
        "id": "QAuoEGF4Xa0B"
      },
      "outputs": [],
      "source": [
        "from sklearn.preprocessing import scale\n",
        "X = scale(X)\n",
        "# split into train and test\n",
        "X_train, X_test, y_train, y_test = train_test_split(X, y, test_size = 0.3, random_state = 42)"
      ]
    },
    {
      "cell_type": "code",
      "execution_count": null,
      "metadata": {
        "id": "7Hzpo3DYXEXW"
      },
      "outputs": [],
      "source": [
        "from sklearn.neighbors import KNeighborsClassifier\n",
        "knn = KNeighborsClassifier(n_neighbors=7)\n",
        " \n",
        "knn.fit(X_train, y_train)\n",
        "y_pred = knn.predict(X_test)"
      ]
    },
    {
      "cell_type": "code",
      "execution_count": null,
      "metadata": {
        "colab": {
          "base_uri": "https://localhost:8080/"
        },
        "id": "Nr1kzK-JXEcL",
        "outputId": "d1bf18d0-fdc9-4df3-de1e-edcb7a1fda06"
      },
      "outputs": [
        {
          "output_type": "stream",
          "name": "stdout",
          "text": [
            "Confusion matrix: \n",
            "[[123  28]\n",
            " [ 37  43]]\n"
          ]
        }
      ],
      "source": [
        "print(\"Confusion matrix: \")\n",
        "cs = metrics.confusion_matrix(y_test,y_pred)\n",
        "print(cs)"
      ]
    },
    {
      "cell_type": "code",
      "execution_count": null,
      "metadata": {
        "colab": {
          "base_uri": "https://localhost:8080/"
        },
        "id": "dOOO5IR3XEc_",
        "outputId": "d0eb53b7-a455-45d4-de5a-63691ebf8f27"
      },
      "outputs": [
        {
          "output_type": "stream",
          "name": "stdout",
          "text": [
            "Acccuracy  0.7186147186147186\n"
          ]
        }
      ],
      "source": [
        "print(\"Acccuracy \",metrics.accuracy_score(y_test,y_pred))"
      ]
    },
    {
      "cell_type": "markdown",
      "metadata": {
        "id": "CcYBOmD2aKtU"
      },
      "source": [
        "Classification error rate: proportion of instances misclassified over the whole set of instances.\n",
        "Error rate is calculated as the total number of two incorrect predictions (FN + FP) divided by the total number of a dataset (examples in the dataset.\n",
        "\n",
        "Also error_rate = 1- accuracy"
      ]
    },
    {
      "cell_type": "code",
      "execution_count": null,
      "metadata": {
        "colab": {
          "base_uri": "https://localhost:8080/"
        },
        "id": "qCIjQd9RZDVV",
        "outputId": "91cf8622-9ff8-4875-a40c-c7fa641e6c2c"
      },
      "outputs": [
        {
          "output_type": "stream",
          "name": "stdout",
          "text": [
            "65\n",
            "231\n",
            "Error rate 0.2813852813852814\n",
            "Error rate  0.2813852813852814\n"
          ]
        }
      ],
      "source": [
        "total_misclassified = cs[0,1] + cs[1,0]\n",
        "print(total_misclassified)\n",
        "total_examples = cs[0,0]+cs[0,1]+cs[1,0]+cs[1,1]\n",
        "print(total_examples)\n",
        "print(\"Error rate\",total_misclassified/total_examples)\n",
        "print(\"Error rate \",1-metrics.accuracy_score(y_test,y_pred))"
      ]
    },
    {
      "cell_type": "code",
      "execution_count": null,
      "metadata": {
        "colab": {
          "base_uri": "https://localhost:8080/"
        },
        "id": "ITatd86kZK8b",
        "outputId": "5c98800a-c1d1-40c5-9086-13e8eda7d866"
      },
      "outputs": [
        {
          "output_type": "stream",
          "name": "stdout",
          "text": [
            "Precision score 0.6056338028169014\n"
          ]
        }
      ],
      "source": [
        "print(\"Precision score\",metrics.precision_score(y_test,y_pred))"
      ]
    },
    {
      "cell_type": "code",
      "execution_count": null,
      "metadata": {
        "colab": {
          "base_uri": "https://localhost:8080/"
        },
        "id": "CGtYrqGHZU1z",
        "outputId": "09d52e5b-b27c-47ac-dbcb-78cf4507d8fc"
      },
      "outputs": [
        {
          "output_type": "stream",
          "name": "stdout",
          "text": [
            "Recall score  0.5375\n"
          ]
        }
      ],
      "source": [
        "print(\"Recall score \",metrics.recall_score(y_test,y_pred))"
      ]
    },
    {
      "cell_type": "code",
      "execution_count": null,
      "metadata": {
        "colab": {
          "base_uri": "https://localhost:8080/"
        },
        "id": "LSJOCp6YZc_R",
        "outputId": "d2d7846c-48e7-4b05-f797-a60a5477fcc0"
      },
      "outputs": [
        {
          "output_type": "stream",
          "name": "stdout",
          "text": [
            "Classification report                precision    recall  f1-score   support\n",
            "\n",
            "           0       0.77      0.81      0.79       151\n",
            "           1       0.61      0.54      0.57        80\n",
            "\n",
            "    accuracy                           0.72       231\n",
            "   macro avg       0.69      0.68      0.68       231\n",
            "weighted avg       0.71      0.72      0.71       231\n",
            "\n"
          ]
        }
      ],
      "source": [
        "print(\"Classification report \",metrics.classification_report(y_test,y_pred))"
      ]
    }
  ],
  "metadata": {
    "colab": {
      "provenance": []
    },
    "kernelspec": {
      "display_name": "Python 3",
      "language": "python",
      "name": "python3"
    },
    "language_info": {
      "codemirror_mode": {
        "name": "ipython",
        "version": 3
      },
      "file_extension": ".py",
      "mimetype": "text/x-python",
      "name": "python",
      "nbconvert_exporter": "python",
      "pygments_lexer": "ipython3",
      "version": "3.8.8"
    }
  },
  "nbformat": 4,
  "nbformat_minor": 0
}